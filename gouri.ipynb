{
 "cells": [
  {
   "cell_type": "code",
   "execution_count": 14,
   "id": "b0b5e056",
   "metadata": {},
   "outputs": [
    {
     "name": "stdout",
     "output_type": "stream",
     "text": [
      "arrays\n",
      "[1 9 3]\n",
      "[8 4 5]\n",
      "greater is\n",
      "[False  True False]\n",
      "lesser is\n",
      "[ True False  True]\n",
      "greater or equal\n",
      "[False  True False]\n",
      "lesser or equal\n",
      "[ True False  True]\n"
     ]
    }
   ],
   "source": [
    "import numpy as np\n",
    "a = np.array([1,9,3])\n",
    "b = np.array([8,4,5])\n",
    "print(\"arrays\")\n",
    "print(a)\n",
    "print(b)\n",
    "print(\"greater is\")\n",
    "print(np.greater(a,b))\n",
    "print(\"lesser is\")\n",
    "print(np.less(a,b))\n",
    "print(\"greater or equal\")\n",
    "print(np.greater_equal(a,b))\n",
    "print(\"lesser or equal\")\n",
    "print(np.less_equal(a,b))"
   ]
  },
  {
   "cell_type": "code",
   "execution_count": 46,
   "id": "e9999196",
   "metadata": {},
   "outputs": [
    {
     "name": "stdout",
     "output_type": "stream",
     "text": [
      "even numbers from 30 to 70 are:\n",
      "[30 32 34 36 38 40 42 44 46 48 50 52 54 56 58 60 62 64 66 68 70]\n"
     ]
    }
   ],
   "source": [
    "import numpy as np\n",
    "a=np.arange(30,71,2)\n",
    "print(\"even numbers from 30 to 70 are:\")\n",
    "print(a)"
   ]
  },
  {
   "cell_type": "code",
   "execution_count": 15,
   "id": "e18d0bf0",
   "metadata": {},
   "outputs": [
    {
     "name": "stdout",
     "output_type": "stream",
     "text": [
      "3*3 matrix is\n",
      "[[1. 0. 0.]\n",
      " [0. 1. 0.]\n",
      " [0. 0. 1.]]\n"
     ]
    }
   ],
   "source": [
    "import numpy as np\n",
    "a=np.identity(3)\n",
    "print(\"3*3 matrix is\")\n",
    "print(a)"
   ]
  },
  {
   "cell_type": "code",
   "execution_count": 18,
   "id": "c28f3bc1",
   "metadata": {},
   "outputs": [
    {
     "name": "stdout",
     "output_type": "stream",
     "text": [
      "vector is\n",
      "[ 0  1  2  3  4  5  6  7  8  9 10 11 12 13 14 15 16 17 18 19 20]\n",
      "vector after changing the signs\n",
      "[  0   1   2   3   4   5   6   7   8  -9 -10 -11 -12 -13 -14 -15  16  17\n",
      "  18  19  20]\n"
     ]
    }
   ],
   "source": [
    "import numpy as np\n",
    "x=np.arange(21)\n",
    "print(\"vector is\")\n",
    "print(x)\n",
    "x[(x>=9)&(x<=15)]*=-1\n",
    "print(\"vector after changing the signs\")\n",
    "print(x)\n",
    "\n",
    "\n"
   ]
  },
  {
   "cell_type": "code",
   "execution_count": 19,
   "id": "4d690b32",
   "metadata": {},
   "outputs": [
    {
     "name": "stdout",
     "output_type": "stream",
     "text": [
      "5*5 matrix is\n",
      "[[1 0 0 0 0]\n",
      " [0 2 0 0 0]\n",
      " [0 0 3 0 0]\n",
      " [0 0 0 4 0]\n",
      " [0 0 0 0 5]]\n"
     ]
    }
   ],
   "source": [
    "import numpy as np\n",
    "x=np.diag([1,2,3,4,5])\n",
    "print(\"5*5 matrix is\")\n",
    "print(x)"
   ]
  },
  {
   "cell_type": "code",
   "execution_count": 27,
   "id": "a7543973",
   "metadata": {},
   "outputs": [
    {
     "name": "stdout",
     "output_type": "stream",
     "text": [
      "arrays \n",
      "[[4 5]\n",
      " [7 6]]\n",
      "sum of elements \n",
      "22\n",
      "sum of each row\n",
      "[ 9 13]\n",
      "sum of each column\n",
      "[11 11]\n"
     ]
    }
   ],
   "source": [
    "import numpy as np\n",
    "a=np.array([[4,5],[7,6]])\n",
    "print(\"arrays \")\n",
    "print(a)\n",
    "print(\"sum of elements \")\n",
    "print(np.sum(a))\n",
    "print(\"sum of each row\")\n",
    "print(np.sum(a,axis=1))\n",
    "print(\"sum of each column\")\n",
    "print(np.sum(a,axis=0))\n",
    "\n"
   ]
  },
  {
   "cell_type": "code",
   "execution_count": 37,
   "id": "414f383c",
   "metadata": {},
   "outputs": [
    {
     "name": "stdout",
     "output_type": "stream",
     "text": [
      "[[0 1]\n",
      " [2 3]\n",
      " [4 5]]\n",
      "After loading, content of the text file:\n",
      "[[0. 1.]\n",
      " [2. 3.]\n",
      " [4. 5.]]\n"
     ]
    }
   ],
   "source": [
    "import numpy as np\n",
    "import os\n",
    "a=np.arange(6).reshape(3,2)\n",
    "print(a)\n",
    "header = 'col1 col2 col3'\n",
    "np.savetxt('t.txt', a, fmt=\"%d\", header=header) \n",
    "print(\"After loading, content of the text file:\")\n",
    "r = np.loadtxt('t.txt')\n",
    "print(r)"
   ]
  },
  {
   "cell_type": "code",
   "execution_count": 40,
   "id": "b6936b0a",
   "metadata": {},
   "outputs": [
    {
     "name": "stdout",
     "output_type": "stream",
     "text": [
      "arrays are\n",
      "[1 2 3] [1 2 3]\n",
      "after testing\n",
      "True\n"
     ]
    }
   ],
   "source": [
    "import numpy as np\n",
    "a = np.array([1,2,3])\n",
    "b = np.array([1,2,3])\n",
    "print(\"arrays are\")\n",
    "print(a,b)\n",
    "print(\"after testing\")\n",
    "eq=np.allclose(a,b)\n",
    "print(eq)"
   ]
  },
  {
   "cell_type": "code",
   "execution_count": 42,
   "id": "74bc829d",
   "metadata": {},
   "outputs": [
    {
     "name": "stdout",
     "output_type": "stream",
     "text": [
      "array\n",
      "[[ 0  1  2  3]\n",
      " [ 4  5  6  7]\n",
      " [ 8  9 10 11]\n",
      " [12 13 14 15]]\n",
      "after swapping\n",
      "[[12 13 14 15]\n",
      " [ 4  5  6  7]\n",
      " [ 8  9 10 11]\n",
      " [ 0  1  2  3]]\n"
     ]
    }
   ],
   "source": [
    "import numpy as np\n",
    "n=np.arange(16).reshape(4,4)\n",
    "print(\"array\")\n",
    "print(n)\n",
    "print(\"after swapping\")\n",
    "n[[0,-1],:]=n[[-1,0],:]\n",
    "print(n)\n"
   ]
  },
  {
   "cell_type": "code",
   "execution_count": 43,
   "id": "64a120b5",
   "metadata": {},
   "outputs": [
    {
     "name": "stdout",
     "output_type": "stream",
     "text": [
      "arrays\n",
      "[1 2 3] [8 7 6]\n",
      "after multipication\n",
      "[ 8 14 18]\n"
     ]
    }
   ],
   "source": [
    "import numpy as np\n",
    "a = np.array([1,2,3])\n",
    "b = np.array([8,7,6])\n",
    "print(\"arrays\")\n",
    "print(a,b)\n",
    "print(\"after multipication\")\n",
    "print(np.multiply(a,b))\n"
   ]
  },
  {
   "cell_type": "code",
   "execution_count": null,
   "id": "726bdda8",
   "metadata": {},
   "outputs": [],
   "source": []
  }
 ],
 "metadata": {
  "kernelspec": {
   "display_name": "Python 3",
   "language": "python",
   "name": "python3"
  },
  "language_info": {
   "codemirror_mode": {
    "name": "ipython",
    "version": 3
   },
   "file_extension": ".py",
   "mimetype": "text/x-python",
   "name": "python",
   "nbconvert_exporter": "python",
   "pygments_lexer": "ipython3",
   "version": "3.5.6"
  }
 },
 "nbformat": 4,
 "nbformat_minor": 5
}
