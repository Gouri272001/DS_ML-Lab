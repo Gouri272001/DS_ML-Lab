{
 "cells": [
  {
   "cell_type": "code",
   "execution_count": null,
   "id": "33e10cdd",
   "metadata": {},
   "outputs": [],
   "source": [
    "import numpy as np\n",
    "R1 = int(input(\"enter number of rows of matrix1:\"))\n",
    "C1 = int(input(\"enter number of columns of matrix1:\"))\n",
    "print(\"enter the elements of the matrix1: \")\n",
    "e1 = list(map(int, input().split())) \n",
    "matrix1 = np.array(e1).reshape(R1,C1)  \n",
    "print(matrix1)  \n",
    "\n",
    "R2 = int(input(\"enter number of rows of matrix2:\"))\n",
    "C2 = int(input(\"enter number of columns of matrix2:\"))\n",
    "print(\"enter the elements of the matrix2: \")\n",
    "e2 = list(map(int, input().split())) \n",
    "matrix2 = np.array(e2).reshape(R2,C2)  \n",
    "print(matrix2) \n",
    "\n",
    "print(\"dot product of 2 matrices is:\")\n",
    "dot=np.dot(matrix1,matrix2)\n",
    "print(dot)\n",
    "\n",
    "print(\"transpose of matrix1 is:\")\n",
    "trans=matrix1.transpose()\n",
    "print(trans)\n",
    "\n",
    "print(\"trace of matrix1 is:\")\n",
    "trace=matrix1.trace()\n",
    "print(trace)\n",
    "\n",
    "print(\"Rank of a Matrix1 is:\")\n",
    "rank=np.linalg.matrix_rank(matrix1)\n",
    "print(rank)\n",
    "\n",
    "print(\"determinant of a Matrix1 is:\")\n",
    "det=np.linalg.det(matrix1)\n",
    "print(det)\n",
    "\n",
    "print(\"inverse of a Matrix1 is:\")\n",
    "inv=np.linalg.inv(matrix1)\n",
    "print(inv)\n",
    "\n",
    "va,ve = np.linalg.eig(matrix1)\n",
    "print(\"eigen values of matrix1:\",va)\n",
    "print(\"eigen vectors of matrix1:\",ve)"
   ]
  },
  {
   "cell_type": "code",
   "execution_count": null,
   "id": "3b276c5a",
   "metadata": {},
   "outputs": [],
   "source": []
  }
 ],
 "metadata": {
  "kernelspec": {
   "display_name": "Python 3",
   "language": "python",
   "name": "python3"
  },
  "language_info": {
   "codemirror_mode": {
    "name": "ipython",
    "version": 3
   },
   "file_extension": ".py",
   "mimetype": "text/x-python",
   "name": "python",
   "nbconvert_exporter": "python",
   "pygments_lexer": "ipython3",
   "version": "3.5.6"
  }
 },
 "nbformat": 4,
 "nbformat_minor": 5
}
