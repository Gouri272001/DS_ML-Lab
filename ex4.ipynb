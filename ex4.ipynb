{
 "cells": [
  {
   "cell_type": "code",
   "execution_count": 8,
   "id": "fb7a780c",
   "metadata": {},
   "outputs": [
    {
     "name": "stdout",
     "output_type": "stream",
     "text": [
      "a    banana\n",
      "b     apple\n",
      "c    orange\n",
      "dtype: object\n"
     ]
    }
   ],
   "source": [
    "import pandas as pd\n",
    "d=pd.Series(['banana','apple','orange'],index=['a','b','c'])\n",
    "print(d)\n",
    "\n"
   ]
  },
  {
   "cell_type": "code",
   "execution_count": 3,
   "id": "a97eefdc",
   "metadata": {},
   "outputs": [
    {
     "name": "stdout",
     "output_type": "stream",
     "text": [
      "DatetimeIndex(['2021-05-01', '2021-05-02', '2021-05-03', '2021-05-04',\n",
      "               '2021-05-05', '2021-05-06', '2021-05-07', '2021-05-08',\n",
      "               '2021-05-09', '2021-05-10', '2021-05-11', '2021-05-12'],\n",
      "              dtype='datetime64[ns]', freq='D')\n"
     ]
    }
   ],
   "source": [
    "d=pd.date_range(start='05-01-2021',end='05-12-2021')\n",
    "print(d)"
   ]
  },
  {
   "cell_type": "code",
   "execution_count": 4,
   "id": "3ea5e0f1",
   "metadata": {},
   "outputs": [
    {
     "name": "stdout",
     "output_type": "stream",
     "text": [
      "    name  rollno\n",
      "0  gouri       1\n",
      "1   anju       2\n",
      "2  varna       3\n"
     ]
    }
   ],
   "source": [
    "d={'rollno':[1,2,3],\n",
    "  'name':['gouri','anju','varna']\n",
    "}\n",
    "var = pd.DataFrame(d)\n",
    "\n",
    "print(var)"
   ]
  },
  {
   "cell_type": "code",
   "execution_count": 6,
   "id": "1f2fd42f",
   "metadata": {},
   "outputs": [
    {
     "name": "stdout",
     "output_type": "stream",
     "text": [
      "   name       job  age\n",
      "0   Ram   teacher   27\n",
      "1  Sree    doctor   40\n",
      "2   Anu  engineer   34\n"
     ]
    }
   ],
   "source": [
    "list=[['Ram','teacher',27],['Sree','doctor',40],['Anu','engineer',34]]\n",
    "df=pd.DataFrame(list,columns=['name','job','age'])\n",
    "print(df)"
   ]
  },
  {
   "cell_type": "code",
   "execution_count": 7,
   "id": "1100b944",
   "metadata": {},
   "outputs": [
    {
     "name": "stdout",
     "output_type": "stream",
     "text": [
      "   no   name  age\n",
      "0   1   sree   20\n",
      "1   2  gouri   21\n",
      "2   3   anju   30\n"
     ]
    }
   ],
   "source": [
    "df=pd.read_csv(\"data.csv\")\n",
    "print(df.head())"
   ]
  },
  {
   "cell_type": "code",
   "execution_count": 15,
   "id": "2e1bac0c",
   "metadata": {},
   "outputs": [
    {
     "name": "stdout",
     "output_type": "stream",
     "text": [
      "    name  rollno\n",
      "1   anju       2\n",
      "0  gouri       1\n",
      "2  varna       3\n"
     ]
    }
   ],
   "source": [
    "print(df.sort_values(by = ['name']))  "
   ]
  },
  {
   "cell_type": "code",
   "execution_count": 4,
   "id": "92c34984",
   "metadata": {},
   "outputs": [
    {
     "data": {
      "text/html": [
       "<div>\n",
       "<style scoped>\n",
       "    .dataframe tbody tr th:only-of-type {\n",
       "        vertical-align: middle;\n",
       "    }\n",
       "\n",
       "    .dataframe tbody tr th {\n",
       "        vertical-align: top;\n",
       "    }\n",
       "\n",
       "    .dataframe thead th {\n",
       "        text-align: right;\n",
       "    }\n",
       "</style>\n",
       "<table border=\"1\" class=\"dataframe\">\n",
       "  <thead>\n",
       "    <tr style=\"text-align: right;\">\n",
       "      <th></th>\n",
       "      <th>index</th>\n",
       "      <th>rollno</th>\n",
       "      <th>name</th>\n",
       "      <th>age</th>\n",
       "    </tr>\n",
       "  </thead>\n",
       "  <tbody>\n",
       "    <tr>\n",
       "      <th>0</th>\n",
       "      <td>e</td>\n",
       "      <td>NaN</td>\n",
       "      <td>NaN</td>\n",
       "      <td>NaN</td>\n",
       "    </tr>\n",
       "    <tr>\n",
       "      <th>1</th>\n",
       "      <td>c</td>\n",
       "      <td>NaN</td>\n",
       "      <td>NaN</td>\n",
       "      <td>NaN</td>\n",
       "    </tr>\n",
       "    <tr>\n",
       "      <th>2</th>\n",
       "      <td>a</td>\n",
       "      <td>NaN</td>\n",
       "      <td>NaN</td>\n",
       "      <td>NaN</td>\n",
       "    </tr>\n",
       "    <tr>\n",
       "      <th>3</th>\n",
       "      <td>d</td>\n",
       "      <td>NaN</td>\n",
       "      <td>NaN</td>\n",
       "      <td>NaN</td>\n",
       "    </tr>\n",
       "    <tr>\n",
       "      <th>4</th>\n",
       "      <td>b</td>\n",
       "      <td>NaN</td>\n",
       "      <td>NaN</td>\n",
       "      <td>NaN</td>\n",
       "    </tr>\n",
       "  </tbody>\n",
       "</table>\n",
       "</div>"
      ],
      "text/plain": [
       "  index  rollno name  age\n",
       "0     e     NaN  NaN  NaN\n",
       "1     c     NaN  NaN  NaN\n",
       "2     a     NaN  NaN  NaN\n",
       "3     d     NaN  NaN  NaN\n",
       "4     b     NaN  NaN  NaN"
      ]
     },
     "execution_count": 4,
     "metadata": {},
     "output_type": "execute_result"
    }
   ],
   "source": [
    "import pandas as pd\n",
    "data=pd.read_csv('new.csv')\n",
    "index={'a','b','c','d','e'}\n",
    "df=pd.DataFrame(data,index)\n",
    "df.reset_index(inplace=True)\n",
    "df"
   ]
  },
  {
   "cell_type": "code",
   "execution_count": 23,
   "id": "e6aa6ea6",
   "metadata": {},
   "outputs": [
    {
     "name": "stdout",
     "output_type": "stream",
     "text": [
      "\n",
      "   marks  name\n",
      "0     23   Anu\n",
      "1     25  Sree\n"
     ]
    }
   ],
   "source": [
    "data={'name':['Anu','Sree','Aswin','Arun','Vishnu','Anand'],\n",
    "     'marks':[23,25,34,28,27,32]}\n",
    "df=pd.DataFrame(data)\n",
    "print()\n",
    "dff=df.head(2)\n",
    "print(dff)"
   ]
  },
  {
   "cell_type": "code",
   "execution_count": 27,
   "id": "d025f81f",
   "metadata": {},
   "outputs": [
    {
     "name": "stdout",
     "output_type": "stream",
     "text": [
      "     name occupation  salary\n",
      "0     Anu   engineer   60000\n",
      "1    Sree     doctor   70000\n",
      "2   Aswin   engineer   50000\n",
      "3    Arun    teacher   70000\n",
      "4  Vishnu    manager   40000\n",
      "5   Anand     doctor   50000\n",
      "\n",
      "occupation\n",
      "doctor      60000\n",
      "engineer    55000\n",
      "manager     40000\n",
      "teacher     70000\n",
      "Name: salary, dtype: int64\n"
     ]
    }
   ],
   "source": [
    "data={'name':['Anu','Sree','Aswin','Arun','Vishnu','Anand'],\n",
    "     'occupation':['engineer','doctor','engineer','teacher','manager','doctor'],\n",
    "     'salary':[60000,70000,50000,70000,40000,50000]}\n",
    "df=pd.DataFrame(data)\n",
    "print(df)\n",
    "print()\n",
    "avg=df.groupby('occupation')['salary'].mean()\n",
    "print(avg)"
   ]
  },
  {
   "cell_type": "code",
   "execution_count": 29,
   "id": "1fc3b8a9",
   "metadata": {},
   "outputs": [
    {
     "name": "stdout",
     "output_type": "stream",
     "text": [
      "   values\n",
      "0   700.0\n",
      "1     NaN\n",
      "2   500.0\n",
      "3     NaN\n",
      "\n",
      "   values\n",
      "0   700.0\n",
      "1     0.0\n",
      "2   500.0\n",
      "3     0.0\n"
     ]
    }
   ],
   "source": [
    "import numpy as np\n",
    "df=pd.DataFrame({'values':[700,np.nan,500,np.nan]})\n",
    "print(df)\n",
    "print()\n",
    "df=df.fillna(0)\n",
    "print(df)"
   ]
  },
  {
   "cell_type": "code",
   "execution_count": 38,
   "id": "57b992d8",
   "metadata": {},
   "outputs": [
    {
     "name": "stdout",
     "output_type": "stream",
     "text": [
      "\n",
      "  cname  profit\n",
      "0   ABG    True\n",
      "1   JPK   False\n",
      "2   BBG    True\n",
      "3   RCC   False\n",
      "4   MNE    True\n"
     ]
    }
   ],
   "source": [
    "import pandas as pd\n",
    "data=pd.read_csv('cname.csv')\n",
    "print()\n",
    "data['profit']=data['profit'].apply(lambda x:x>0)\n",
    "print(data)"
   ]
  },
  {
   "cell_type": "code",
   "execution_count": 2,
   "id": "c014da1b",
   "metadata": {},
   "outputs": [
    {
     "name": "stdout",
     "output_type": "stream",
     "text": [
      "\n",
      "\n",
      "   eid  position  ename  stipend\n",
      "0    1  employee  gouri     2000\n",
      "1    2    intern   anju     4000\n",
      "2    3  employee  varna     1500\n",
      "3    4    intern  anchu     3000\n"
     ]
    }
   ],
   "source": [
    "import pandas as pd\n",
    "data=pd.read_csv('eid.csv')\n",
    "print()\n",
    "data2=pd.read_csv('c.csv')\n",
    "print()\n",
    "df=pd.merge(data,data2,how='inner',on='eid')\n",
    "print(df)"
   ]
  },
  {
   "cell_type": "code",
   "execution_count": null,
   "id": "651cf71f",
   "metadata": {},
   "outputs": [],
   "source": []
  }
 ],
 "metadata": {
  "kernelspec": {
   "display_name": "Python 3",
   "language": "python",
   "name": "python3"
  },
  "language_info": {
   "codemirror_mode": {
    "name": "ipython",
    "version": 3
   },
   "file_extension": ".py",
   "mimetype": "text/x-python",
   "name": "python",
   "nbconvert_exporter": "python",
   "pygments_lexer": "ipython3",
   "version": "3.5.6"
  }
 },
 "nbformat": 4,
 "nbformat_minor": 5
}
